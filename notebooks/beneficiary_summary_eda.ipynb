{
 "cells": [
  {
   "cell_type": "code",
   "execution_count": 21,
   "metadata": {},
   "outputs": [],
   "source": [
    "import pandas as pd\n",
    "import os\n",
    "import glob\n",
    "import numpy as np\n",
    "from pathlib import Path\n",
    "import datetime\n",
    "import matplotlib.pyplot as plt\n",
    "import matplotlib.colors as mcolors"
   ]
  },
  {
   "cell_type": "code",
   "execution_count": 22,
   "metadata": {},
   "outputs": [],
   "source": [
    "# get current working directory to construct absolute path to CMS-DE-SynPuf-VB/downloads/beneficiary_summaries folder\n",
    "cwd = os.getcwd()\n",
    "ls = cwd.split(os.sep)"
   ]
  },
  {
   "cell_type": "code",
   "execution_count": 23,
   "metadata": {},
   "outputs": [],
   "source": [
    "# construct paths to subdirectories in downloads\\beneficiary_summaries\n",
    "path_bs_2008 = ls[0] + os.sep + '**' + os.sep + 'CMS-DE-SynPuf-VB' + os.sep + 'downloads' + os.sep + 'beneficiary_summaries' + os.sep + '2008' + os.sep + '*.csv'\n",
    "path_bs_2009 = ls[0] + os.sep + '**' + os.sep + 'CMS-DE-SynPuf-VB' + os.sep + 'downloads' + os.sep + 'beneficiary_summaries' + os.sep + '2009' + os.sep + '*.csv'\n",
    "path_bs_2010 = ls[0] + os.sep + '**' + os.sep + 'CMS-DE-SynPuf-VB' + os.sep + 'downloads' + os.sep + 'beneficiary_summaries' + os.sep + '2010' + os.sep + '*.csv'"
   ]
  },
  {
   "cell_type": "code",
   "execution_count": 24,
   "metadata": {},
   "outputs": [],
   "source": [
    "# use glob to filter out the files in each subdirectory with the extension .csv\n",
    "all_bs_2008_files = glob.glob(path_bs_2008, recursive=True)\n",
    "all_bs_2009_files = glob.glob(path_bs_2009, recursive=True)\n",
    "all_bs_2010_files = glob.glob(path_bs_2010, recursive=True)\n",
    "\n",
    "# however, because glob will find the file in every subdirectory, files will have\n",
    "# several paths. there is a need to establish a base part of a url so we can have \n",
    "# only one instance of each file\n",
    "\n",
    "# arbitrarily select the first string in one glob list and use that to establish\n",
    "# the base path with which to extract paths from the larger glob lists\n",
    "\n",
    "full_path = all_bs_2008_files[0]\n",
    "split_path = full_path.split(os.sep)\n",
    "tgt = split_path.index('CMS-DE-SynPuf-VB')\n",
    "base_path = os.sep.join(split_path[0:tgt]) + os.sep\n",
    "\n",
    "valid_bs_2008_files = [x for x in all_bs_2008_files if x.startswith(base_path)]\n",
    "valid_bs_2009_files = [x for x in all_bs_2009_files if x.startswith(base_path)]\n",
    "valid_bs_2010_files = [x for x in all_bs_2010_files if x.startswith(base_path)]"
   ]
  },
  {
   "cell_type": "code",
   "execution_count": 46,
   "metadata": {},
   "outputs": [
    {
     "data": {
      "text/html": [
       "<div>\n",
       "<style scoped>\n",
       "    .dataframe tbody tr th:only-of-type {\n",
       "        vertical-align: middle;\n",
       "    }\n",
       "\n",
       "    .dataframe tbody tr th {\n",
       "        vertical-align: top;\n",
       "    }\n",
       "\n",
       "    .dataframe thead th {\n",
       "        text-align: right;\n",
       "    }\n",
       "</style>\n",
       "<table border=\"1\" class=\"dataframe\">\n",
       "  <thead>\n",
       "    <tr style=\"text-align: right;\">\n",
       "      <th></th>\n",
       "      <th>YEAR</th>\n",
       "      <th>DESYNPUF_ID</th>\n",
       "      <th>BENE_BIRTH_DT</th>\n",
       "      <th>BENE_DEATH_DT</th>\n",
       "      <th>BENE_SEX_IDENT_CD</th>\n",
       "      <th>BENE_RACE_CD</th>\n",
       "      <th>SP_STATE_CODE</th>\n",
       "      <th>BENE_HMO_CVRAGE_TOT_MONS</th>\n",
       "    </tr>\n",
       "  </thead>\n",
       "  <tbody>\n",
       "    <tr>\n",
       "      <th>0</th>\n",
       "      <td>2008</td>\n",
       "      <td>00013D2EFD8E45D1</td>\n",
       "      <td>19230501</td>\n",
       "      <td>NaN</td>\n",
       "      <td>1</td>\n",
       "      <td>1</td>\n",
       "      <td>26</td>\n",
       "      <td>12</td>\n",
       "    </tr>\n",
       "    <tr>\n",
       "      <th>1</th>\n",
       "      <td>2008</td>\n",
       "      <td>00016F745862898F</td>\n",
       "      <td>19430101</td>\n",
       "      <td>NaN</td>\n",
       "      <td>1</td>\n",
       "      <td>1</td>\n",
       "      <td>39</td>\n",
       "      <td>0</td>\n",
       "    </tr>\n",
       "    <tr>\n",
       "      <th>2</th>\n",
       "      <td>2008</td>\n",
       "      <td>0001FDD721E223DC</td>\n",
       "      <td>19360901</td>\n",
       "      <td>NaN</td>\n",
       "      <td>2</td>\n",
       "      <td>1</td>\n",
       "      <td>39</td>\n",
       "      <td>0</td>\n",
       "    </tr>\n",
       "    <tr>\n",
       "      <th>3</th>\n",
       "      <td>2008</td>\n",
       "      <td>00021CA6FF03E670</td>\n",
       "      <td>19410601</td>\n",
       "      <td>NaN</td>\n",
       "      <td>1</td>\n",
       "      <td>5</td>\n",
       "      <td>6</td>\n",
       "      <td>0</td>\n",
       "    </tr>\n",
       "    <tr>\n",
       "      <th>4</th>\n",
       "      <td>2008</td>\n",
       "      <td>00024B3D2352D2D0</td>\n",
       "      <td>19360801</td>\n",
       "      <td>NaN</td>\n",
       "      <td>1</td>\n",
       "      <td>1</td>\n",
       "      <td>52</td>\n",
       "      <td>0</td>\n",
       "    </tr>\n",
       "    <tr>\n",
       "      <th>...</th>\n",
       "      <td>...</td>\n",
       "      <td>...</td>\n",
       "      <td>...</td>\n",
       "      <td>...</td>\n",
       "      <td>...</td>\n",
       "      <td>...</td>\n",
       "      <td>...</td>\n",
       "      <td>...</td>\n",
       "    </tr>\n",
       "    <tr>\n",
       "      <th>6760515</th>\n",
       "      <td>2010</td>\n",
       "      <td>FFFB2D0ED0E52160</td>\n",
       "      <td>19460901</td>\n",
       "      <td>NaN</td>\n",
       "      <td>2</td>\n",
       "      <td>1</td>\n",
       "      <td>4</td>\n",
       "      <td>0</td>\n",
       "    </tr>\n",
       "    <tr>\n",
       "      <th>6760516</th>\n",
       "      <td>2010</td>\n",
       "      <td>FFFC020559E4F5B7</td>\n",
       "      <td>19311101</td>\n",
       "      <td>NaN</td>\n",
       "      <td>2</td>\n",
       "      <td>1</td>\n",
       "      <td>23</td>\n",
       "      <td>0</td>\n",
       "    </tr>\n",
       "    <tr>\n",
       "      <th>6760517</th>\n",
       "      <td>2010</td>\n",
       "      <td>FFFE39796B08C919</td>\n",
       "      <td>19400801</td>\n",
       "      <td>NaN</td>\n",
       "      <td>1</td>\n",
       "      <td>1</td>\n",
       "      <td>39</td>\n",
       "      <td>0</td>\n",
       "    </tr>\n",
       "    <tr>\n",
       "      <th>6760518</th>\n",
       "      <td>2010</td>\n",
       "      <td>FFFE4E347796686D</td>\n",
       "      <td>19330101</td>\n",
       "      <td>NaN</td>\n",
       "      <td>1</td>\n",
       "      <td>1</td>\n",
       "      <td>50</td>\n",
       "      <td>0</td>\n",
       "    </tr>\n",
       "    <tr>\n",
       "      <th>6760519</th>\n",
       "      <td>2010</td>\n",
       "      <td>FFFFEE90E1B4D0DF</td>\n",
       "      <td>19361201</td>\n",
       "      <td>NaN</td>\n",
       "      <td>1</td>\n",
       "      <td>1</td>\n",
       "      <td>42</td>\n",
       "      <td>0</td>\n",
       "    </tr>\n",
       "  </tbody>\n",
       "</table>\n",
       "<p>6760520 rows × 8 columns</p>\n",
       "</div>"
      ],
      "text/plain": [
       "         YEAR       DESYNPUF_ID  BENE_BIRTH_DT  BENE_DEATH_DT  \\\n",
       "0        2008  00013D2EFD8E45D1       19230501            NaN   \n",
       "1        2008  00016F745862898F       19430101            NaN   \n",
       "2        2008  0001FDD721E223DC       19360901            NaN   \n",
       "3        2008  00021CA6FF03E670       19410601            NaN   \n",
       "4        2008  00024B3D2352D2D0       19360801            NaN   \n",
       "...       ...               ...            ...            ...   \n",
       "6760515  2010  FFFB2D0ED0E52160       19460901            NaN   \n",
       "6760516  2010  FFFC020559E4F5B7       19311101            NaN   \n",
       "6760517  2010  FFFE39796B08C919       19400801            NaN   \n",
       "6760518  2010  FFFE4E347796686D       19330101            NaN   \n",
       "6760519  2010  FFFFEE90E1B4D0DF       19361201            NaN   \n",
       "\n",
       "         BENE_SEX_IDENT_CD  BENE_RACE_CD  SP_STATE_CODE  \\\n",
       "0                        1             1             26   \n",
       "1                        1             1             39   \n",
       "2                        2             1             39   \n",
       "3                        1             5              6   \n",
       "4                        1             1             52   \n",
       "...                    ...           ...            ...   \n",
       "6760515                  2             1              4   \n",
       "6760516                  2             1             23   \n",
       "6760517                  1             1             39   \n",
       "6760518                  1             1             50   \n",
       "6760519                  1             1             42   \n",
       "\n",
       "         BENE_HMO_CVRAGE_TOT_MONS  \n",
       "0                              12  \n",
       "1                               0  \n",
       "2                               0  \n",
       "3                               0  \n",
       "4                               0  \n",
       "...                           ...  \n",
       "6760515                         0  \n",
       "6760516                         0  \n",
       "6760517                         0  \n",
       "6760518                         0  \n",
       "6760519                         0  \n",
       "\n",
       "[6760520 rows x 8 columns]"
      ]
     },
     "metadata": {},
     "output_type": "display_data"
    }
   ],
   "source": [
    "# create a consolidated df for each year\n",
    "bs_2008_df = pd.concat([pd.read_csv(bs_2008_file) for bs_2008_file in valid_bs_2008_files])\n",
    "bs_2009_df = pd.concat([pd.read_csv(bs_2009_file) for bs_2009_file in valid_bs_2009_files])\n",
    "bs_2010_df = pd.concat([pd.read_csv(bs_2010_file) for bs_2010_file in valid_bs_2010_files])\n",
    "\n",
    "# leverage separate dfs to add YEAR column as instructed\n",
    "bs_2008_df['YEAR'] = '2008'\n",
    "bs_2009_df['YEAR'] = '2009'\n",
    "bs_2010_df['YEAR'] = '2010'\n",
    "\n",
    "# create list with all dfs\n",
    "bs_ls = [bs_2008_df, bs_2009_df, bs_2010_df]\n",
    "\n",
    "# use pd.concat to merge the dfs in the list\n",
    "merged_bs_df = pd.concat(bs_ls, ignore_index=True)\n",
    "\n",
    "# keep columns specified in assignment document\n",
    "merged_bs_df = merged_bs_df[['YEAR', 'DESYNPUF_ID', 'BENE_BIRTH_DT', 'BENE_DEATH_DT',\n",
    "                             'BENE_SEX_IDENT_CD', 'BENE_RACE_CD', 'SP_STATE_CODE',\n",
    "                             'BENE_HMO_CVRAGE_TOT_MONS']]\n",
    "\n",
    "# create copy to write to csv\n",
    "merged_bs_df_cpy = merged_bs_df.copy()\n",
    "\n",
    "# display \n",
    "display(merged_bs_df)"
   ]
  },
  {
   "cell_type": "code",
   "execution_count": 26,
   "metadata": {},
   "outputs": [
    {
     "name": "stdout",
     "output_type": "stream",
     "text": [
      "Total rows in 2008 consolidated beneficiary summary dataframe: 2326856\n",
      "Total rows in 2009 consolidated beneficiary summary dataframe: 2291320\n",
      "Total rows in 2010 consolidated beneficiary summary dataframe: 2142344\n"
     ]
    }
   ],
   "source": [
    "print(\"Total rows in 2008 consolidated beneficiary summary dataframe: %2d\" % (len(bs_2008_df))) # should be 2,326,856 per \n",
    "                                                                                                # the assignment document, is consistent\n",
    "print(\"Total rows in 2009 consolidated beneficiary summary dataframe: %2d\" % (len(bs_2009_df))) # should be 2,291,320 per \n",
    "                                                                                                # the assignment document, is consistent\n",
    "print(\"Total rows in 2010 consolidated beneficiary summary dataframe: %2d\" % (len(bs_2010_df))) # should be 2,255,098 per \n",
    "                                                                                                # the assignment document, missing 112,754 rows\n",
    "                                                                                                # and we know 2010 sample 1 data is inaccessible \n",
    "                                                                                                # due to the URL error"
   ]
  },
  {
   "cell_type": "code",
   "execution_count": 27,
   "metadata": {},
   "outputs": [
    {
     "name": "stdout",
     "output_type": "stream",
     "text": [
      "Average length of 2010 beneficiary summary dfs: 112754.95\n"
     ]
    }
   ],
   "source": [
    "# let's see the average length of 2010 dfs, rounded to two decimal places, to see if this makes sense\n",
    "avg_2010 = sum([len(pd.read_csv(bs_2010_file)) for bs_2010_file in all_bs_2010_files]) / len(all_bs_2010_files)\n",
    "print(\"Average length of 2010 beneficiary summary dfs: %5.2f\" % (avg_2010))"
   ]
  },
  {
   "cell_type": "markdown",
   "metadata": {},
   "source": [
    "There are 112,754 missing rows, and the average length of the 2010 beneficiary summary dfs is very close to this value,\n",
    "so we can reasonably assume we are missing an amount of data BENE_DEATH_DTconsistent with the likely size of the missing 2010 sample 1 data.\n",
    "\n",
    "Let's reformat the `BENE_BIRTH_DT` and `BENE_DEATH_DT` columns to increase readability:"
   ]
  },
  {
   "cell_type": "markdown",
   "metadata": {},
   "source": [
    "Health outcomes tend to vary by race and locale, so let's see what the average lifespans were for each of these categories."
   ]
  },
  {
   "cell_type": "code",
   "execution_count": 28,
   "metadata": {},
   "outputs": [],
   "source": [
    "# standardize date columns to avoid any pesky decimals\n",
    "def clean_for_dt(col):\n",
    "    if col == 'nan':\n",
    "        return np.nan\n",
    "    else:\n",
    "        return col[0:8]"
   ]
  },
  {
   "cell_type": "code",
   "execution_count": 29,
   "metadata": {},
   "outputs": [],
   "source": [
    "merged_bs_df['BENE_BIRTH_DT'] = merged_bs_df['BENE_BIRTH_DT'].astype(str).map(lambda x: clean_for_dt(x))\n",
    "merged_bs_df['BENE_DEATH_DT'] = merged_bs_df['BENE_DEATH_DT'].astype(str).map(lambda x: clean_for_dt(x))"
   ]
  },
  {
   "cell_type": "code",
   "execution_count": 30,
   "metadata": {},
   "outputs": [],
   "source": [
    "def to_dt(col):\n",
    "    if col == 'nan':\n",
    "        return np.nan\n",
    "    else:\n",
    "        return datetime.datetime.strptime(col, '%Y%m%d')"
   ]
  },
  {
   "cell_type": "code",
   "execution_count": 31,
   "metadata": {},
   "outputs": [
    {
     "data": {
      "text/html": [
       "<div>\n",
       "<style scoped>\n",
       "    .dataframe tbody tr th:only-of-type {\n",
       "        vertical-align: middle;\n",
       "    }\n",
       "\n",
       "    .dataframe tbody tr th {\n",
       "        vertical-align: top;\n",
       "    }\n",
       "\n",
       "    .dataframe thead th {\n",
       "        text-align: right;\n",
       "    }\n",
       "</style>\n",
       "<table border=\"1\" class=\"dataframe\">\n",
       "  <thead>\n",
       "    <tr style=\"text-align: right;\">\n",
       "      <th></th>\n",
       "      <th>YEAR</th>\n",
       "      <th>DESYNPUF_ID</th>\n",
       "      <th>BENE_BIRTH_DT</th>\n",
       "      <th>BENE_DEATH_DT</th>\n",
       "      <th>BENE_SEX_IDENT_CD</th>\n",
       "      <th>BENE_RACE_CD</th>\n",
       "      <th>SP_STATE_CODE</th>\n",
       "      <th>BENE_HMO_CVRAGE_TOT_MONS</th>\n",
       "    </tr>\n",
       "  </thead>\n",
       "  <tbody>\n",
       "    <tr>\n",
       "      <th>0</th>\n",
       "      <td>2008</td>\n",
       "      <td>00013D2EFD8E45D1</td>\n",
       "      <td>1923-05-01</td>\n",
       "      <td>NaT</td>\n",
       "      <td>1</td>\n",
       "      <td>1</td>\n",
       "      <td>26</td>\n",
       "      <td>12</td>\n",
       "    </tr>\n",
       "    <tr>\n",
       "      <th>1</th>\n",
       "      <td>2008</td>\n",
       "      <td>00016F745862898F</td>\n",
       "      <td>1943-01-01</td>\n",
       "      <td>NaT</td>\n",
       "      <td>1</td>\n",
       "      <td>1</td>\n",
       "      <td>39</td>\n",
       "      <td>0</td>\n",
       "    </tr>\n",
       "    <tr>\n",
       "      <th>2</th>\n",
       "      <td>2008</td>\n",
       "      <td>0001FDD721E223DC</td>\n",
       "      <td>1936-09-01</td>\n",
       "      <td>NaT</td>\n",
       "      <td>2</td>\n",
       "      <td>1</td>\n",
       "      <td>39</td>\n",
       "      <td>0</td>\n",
       "    </tr>\n",
       "    <tr>\n",
       "      <th>3</th>\n",
       "      <td>2008</td>\n",
       "      <td>00021CA6FF03E670</td>\n",
       "      <td>1941-06-01</td>\n",
       "      <td>NaT</td>\n",
       "      <td>1</td>\n",
       "      <td>5</td>\n",
       "      <td>6</td>\n",
       "      <td>0</td>\n",
       "    </tr>\n",
       "    <tr>\n",
       "      <th>4</th>\n",
       "      <td>2008</td>\n",
       "      <td>00024B3D2352D2D0</td>\n",
       "      <td>1936-08-01</td>\n",
       "      <td>NaT</td>\n",
       "      <td>1</td>\n",
       "      <td>1</td>\n",
       "      <td>52</td>\n",
       "      <td>0</td>\n",
       "    </tr>\n",
       "    <tr>\n",
       "      <th>...</th>\n",
       "      <td>...</td>\n",
       "      <td>...</td>\n",
       "      <td>...</td>\n",
       "      <td>...</td>\n",
       "      <td>...</td>\n",
       "      <td>...</td>\n",
       "      <td>...</td>\n",
       "      <td>...</td>\n",
       "    </tr>\n",
       "    <tr>\n",
       "      <th>6760515</th>\n",
       "      <td>2010</td>\n",
       "      <td>FFFB2D0ED0E52160</td>\n",
       "      <td>1946-09-01</td>\n",
       "      <td>NaT</td>\n",
       "      <td>2</td>\n",
       "      <td>1</td>\n",
       "      <td>4</td>\n",
       "      <td>0</td>\n",
       "    </tr>\n",
       "    <tr>\n",
       "      <th>6760516</th>\n",
       "      <td>2010</td>\n",
       "      <td>FFFC020559E4F5B7</td>\n",
       "      <td>1931-11-01</td>\n",
       "      <td>NaT</td>\n",
       "      <td>2</td>\n",
       "      <td>1</td>\n",
       "      <td>23</td>\n",
       "      <td>0</td>\n",
       "    </tr>\n",
       "    <tr>\n",
       "      <th>6760517</th>\n",
       "      <td>2010</td>\n",
       "      <td>FFFE39796B08C919</td>\n",
       "      <td>1940-08-01</td>\n",
       "      <td>NaT</td>\n",
       "      <td>1</td>\n",
       "      <td>1</td>\n",
       "      <td>39</td>\n",
       "      <td>0</td>\n",
       "    </tr>\n",
       "    <tr>\n",
       "      <th>6760518</th>\n",
       "      <td>2010</td>\n",
       "      <td>FFFE4E347796686D</td>\n",
       "      <td>1933-01-01</td>\n",
       "      <td>NaT</td>\n",
       "      <td>1</td>\n",
       "      <td>1</td>\n",
       "      <td>50</td>\n",
       "      <td>0</td>\n",
       "    </tr>\n",
       "    <tr>\n",
       "      <th>6760519</th>\n",
       "      <td>2010</td>\n",
       "      <td>FFFFEE90E1B4D0DF</td>\n",
       "      <td>1936-12-01</td>\n",
       "      <td>NaT</td>\n",
       "      <td>1</td>\n",
       "      <td>1</td>\n",
       "      <td>42</td>\n",
       "      <td>0</td>\n",
       "    </tr>\n",
       "  </tbody>\n",
       "</table>\n",
       "<p>6760520 rows × 8 columns</p>\n",
       "</div>"
      ],
      "text/plain": [
       "         YEAR       DESYNPUF_ID BENE_BIRTH_DT BENE_DEATH_DT  \\\n",
       "0        2008  00013D2EFD8E45D1    1923-05-01           NaT   \n",
       "1        2008  00016F745862898F    1943-01-01           NaT   \n",
       "2        2008  0001FDD721E223DC    1936-09-01           NaT   \n",
       "3        2008  00021CA6FF03E670    1941-06-01           NaT   \n",
       "4        2008  00024B3D2352D2D0    1936-08-01           NaT   \n",
       "...       ...               ...           ...           ...   \n",
       "6760515  2010  FFFB2D0ED0E52160    1946-09-01           NaT   \n",
       "6760516  2010  FFFC020559E4F5B7    1931-11-01           NaT   \n",
       "6760517  2010  FFFE39796B08C919    1940-08-01           NaT   \n",
       "6760518  2010  FFFE4E347796686D    1933-01-01           NaT   \n",
       "6760519  2010  FFFFEE90E1B4D0DF    1936-12-01           NaT   \n",
       "\n",
       "         BENE_SEX_IDENT_CD  BENE_RACE_CD  SP_STATE_CODE  \\\n",
       "0                        1             1             26   \n",
       "1                        1             1             39   \n",
       "2                        2             1             39   \n",
       "3                        1             5              6   \n",
       "4                        1             1             52   \n",
       "...                    ...           ...            ...   \n",
       "6760515                  2             1              4   \n",
       "6760516                  2             1             23   \n",
       "6760517                  1             1             39   \n",
       "6760518                  1             1             50   \n",
       "6760519                  1             1             42   \n",
       "\n",
       "         BENE_HMO_CVRAGE_TOT_MONS  \n",
       "0                              12  \n",
       "1                               0  \n",
       "2                               0  \n",
       "3                               0  \n",
       "4                               0  \n",
       "...                           ...  \n",
       "6760515                         0  \n",
       "6760516                         0  \n",
       "6760517                         0  \n",
       "6760518                         0  \n",
       "6760519                         0  \n",
       "\n",
       "[6760520 rows x 8 columns]"
      ]
     },
     "execution_count": 31,
     "metadata": {},
     "output_type": "execute_result"
    }
   ],
   "source": [
    "merged_bs_df['BENE_BIRTH_DT'] = merged_bs_df['BENE_BIRTH_DT'].astype(str).map(lambda x: to_dt(x))\n",
    "merged_bs_df['BENE_DEATH_DT'] = merged_bs_df['BENE_DEATH_DT'].astype(str).map(lambda x: to_dt(x))\n",
    "merged_bs_df"
   ]
  },
  {
   "cell_type": "markdown",
   "metadata": {},
   "source": [
    "Now, I'll create a column called `AGE_DEATH` measured in years:"
   ]
  },
  {
   "cell_type": "code",
   "execution_count": 32,
   "metadata": {},
   "outputs": [],
   "source": [
    "merged_bs_df['AGE_DEATH'] = round((merged_bs_df['BENE_DEATH_DT'] - merged_bs_df['BENE_BIRTH_DT']) / np.timedelta64(1, 'Y'), 2)"
   ]
  },
  {
   "cell_type": "markdown",
   "metadata": {},
   "source": [
    "Per [resdac.org](https://resdac.org/cms-data/variables/beneficiary-race-code-ffs)'s reference for CMS data, the `BENE_RACE_CD` mappings are as follows:\n",
    "\n",
    "`0: Unknown`\n",
    "`1: White`\n",
    "`2: Black`\n",
    "`3: Other`\n",
    "`4: Asian`\n",
    "`5: Hispanic`\n",
    "`6: North American Native`"
   ]
  },
  {
   "cell_type": "code",
   "execution_count": 33,
   "metadata": {},
   "outputs": [],
   "source": [
    "death_by_race = merged_bs_df.groupby(['BENE_RACE_CD', 'YEAR'])['AGE_DEATH'].mean()\n",
    "death_by_locale = merged_bs_df.groupby(['SP_STATE_CODE', 'YEAR'])['AGE_DEATH'].mean()"
   ]
  },
  {
   "cell_type": "code",
   "execution_count": 34,
   "metadata": {},
   "outputs": [
    {
     "name": "stdout",
     "output_type": "stream",
     "text": [
      "BENE_RACE_CD  YEAR\n",
      "1             2008    73.239453\n",
      "              2009    74.061961\n",
      "              2010    75.003468\n",
      "2             2008    69.341193\n",
      "              2009    69.949952\n",
      "              2010    70.375020\n",
      "3             2008    72.532058\n",
      "              2009    73.450014\n",
      "              2010    74.011582\n",
      "5             2008    72.496819\n",
      "              2009    73.230566\n",
      "              2010    74.675861\n",
      "Name: AGE_DEATH, dtype: float64\n"
     ]
    }
   ],
   "source": [
    "print(death_by_race)"
   ]
  },
  {
   "cell_type": "markdown",
   "metadata": {},
   "source": [
    "The lowest average age of death belonged to the Black race, which is consistent with findings from medical literature. however, there was some marginal improvement in ages of death across all demographics from 2008 to 2010, which is ideal for a developed country."
   ]
  },
  {
   "cell_type": "code",
   "execution_count": 35,
   "metadata": {},
   "outputs": [
    {
     "name": "stdout",
     "output_type": "stream",
     "text": [
      "SP_STATE_CODE  YEAR\n",
      "1              2008    71.079204\n",
      "               2009    71.656168\n",
      "               2010    72.063064\n",
      "2              2008    68.670133\n",
      "               2009    72.327097\n",
      "                         ...    \n",
      "53             2009    71.206611\n",
      "               2010    71.620805\n",
      "54             2008    69.062808\n",
      "               2009    72.654594\n",
      "               2010    71.685103\n",
      "Name: AGE_DEATH, Length: 156, dtype: float64\n"
     ]
    }
   ],
   "source": [
    "print(death_by_locale)"
   ]
  },
  {
   "cell_type": "markdown",
   "metadata": {},
   "source": [
    "Now, I want to see if the three shortest lifespans, in *any* year, in the `death_by_locale` groupby belong to some of the poorer states in the United States."
   ]
  },
  {
   "cell_type": "code",
   "execution_count": 36,
   "metadata": {},
   "outputs": [
    {
     "data": {
      "text/plain": [
       "SP_STATE_CODE  YEAR\n",
       "2              2008    68.670133\n",
       "54             2008    69.062808\n",
       "53             2008    69.425269\n",
       "Name: AGE_DEATH, dtype: float64"
      ]
     },
     "execution_count": 36,
     "metadata": {},
     "output_type": "execute_result"
    }
   ],
   "source": [
    "bottom_3 = death_by_locale.nsmallest(3)\n",
    "bottom_3"
   ]
  },
  {
   "cell_type": "markdown",
   "metadata": {},
   "source": [
    "Per [Wikipedia.org](https://en.wikipedia.org/wiki/List_of_U.S._state_and_territory_abbreviations), here are the mappings for the above `SP_STATE_CODE` entries:\n",
    "`2: AK (Alaska)`\n",
    "`54: WV (West Virginia)`\n",
    "`53: WA (Washington)`\n",
    "\n",
    "The only state I would expect to be here is West Virginia, but I am unsure why Washington is here. Let's visualize the data and see if that helps."
   ]
  },
  {
   "cell_type": "code",
   "execution_count": 37,
   "metadata": {},
   "outputs": [
    {
     "data": {
      "text/html": [
       "<div>\n",
       "<style scoped>\n",
       "    .dataframe tbody tr th:only-of-type {\n",
       "        vertical-align: middle;\n",
       "    }\n",
       "\n",
       "    .dataframe tbody tr th {\n",
       "        vertical-align: top;\n",
       "    }\n",
       "\n",
       "    .dataframe thead th {\n",
       "        text-align: right;\n",
       "    }\n",
       "</style>\n",
       "<table border=\"1\" class=\"dataframe\">\n",
       "  <thead>\n",
       "    <tr style=\"text-align: right;\">\n",
       "      <th></th>\n",
       "      <th>SP_STATE_CODE</th>\n",
       "      <th>YEAR</th>\n",
       "      <th>AGE_DEATH</th>\n",
       "    </tr>\n",
       "  </thead>\n",
       "  <tbody>\n",
       "    <tr>\n",
       "      <th>0</th>\n",
       "      <td>1</td>\n",
       "      <td>2008</td>\n",
       "      <td>71.079204</td>\n",
       "    </tr>\n",
       "    <tr>\n",
       "      <th>1</th>\n",
       "      <td>1</td>\n",
       "      <td>2009</td>\n",
       "      <td>71.656168</td>\n",
       "    </tr>\n",
       "    <tr>\n",
       "      <th>2</th>\n",
       "      <td>1</td>\n",
       "      <td>2010</td>\n",
       "      <td>72.063064</td>\n",
       "    </tr>\n",
       "    <tr>\n",
       "      <th>3</th>\n",
       "      <td>2</td>\n",
       "      <td>2008</td>\n",
       "      <td>68.670133</td>\n",
       "    </tr>\n",
       "    <tr>\n",
       "      <th>4</th>\n",
       "      <td>2</td>\n",
       "      <td>2009</td>\n",
       "      <td>72.327097</td>\n",
       "    </tr>\n",
       "    <tr>\n",
       "      <th>...</th>\n",
       "      <td>...</td>\n",
       "      <td>...</td>\n",
       "      <td>...</td>\n",
       "    </tr>\n",
       "    <tr>\n",
       "      <th>151</th>\n",
       "      <td>53</td>\n",
       "      <td>2009</td>\n",
       "      <td>71.206611</td>\n",
       "    </tr>\n",
       "    <tr>\n",
       "      <th>152</th>\n",
       "      <td>53</td>\n",
       "      <td>2010</td>\n",
       "      <td>71.620805</td>\n",
       "    </tr>\n",
       "    <tr>\n",
       "      <th>153</th>\n",
       "      <td>54</td>\n",
       "      <td>2008</td>\n",
       "      <td>69.062808</td>\n",
       "    </tr>\n",
       "    <tr>\n",
       "      <th>154</th>\n",
       "      <td>54</td>\n",
       "      <td>2009</td>\n",
       "      <td>72.654594</td>\n",
       "    </tr>\n",
       "    <tr>\n",
       "      <th>155</th>\n",
       "      <td>54</td>\n",
       "      <td>2010</td>\n",
       "      <td>71.685103</td>\n",
       "    </tr>\n",
       "  </tbody>\n",
       "</table>\n",
       "<p>156 rows × 3 columns</p>\n",
       "</div>"
      ],
      "text/plain": [
       "     SP_STATE_CODE  YEAR  AGE_DEATH\n",
       "0                1  2008  71.079204\n",
       "1                1  2009  71.656168\n",
       "2                1  2010  72.063064\n",
       "3                2  2008  68.670133\n",
       "4                2  2009  72.327097\n",
       "..             ...   ...        ...\n",
       "151             53  2009  71.206611\n",
       "152             53  2010  71.620805\n",
       "153             54  2008  69.062808\n",
       "154             54  2009  72.654594\n",
       "155             54  2010  71.685103\n",
       "\n",
       "[156 rows x 3 columns]"
      ]
     },
     "execution_count": 37,
     "metadata": {},
     "output_type": "execute_result"
    }
   ],
   "source": [
    "locale_df = death_by_locale.to_frame().reset_index()\n",
    "locale_df"
   ]
  },
  {
   "cell_type": "code",
   "execution_count": 38,
   "metadata": {},
   "outputs": [],
   "source": [
    "locale_2008 = locale_df[locale_df['YEAR'] == '2008'].reset_index(drop=True)\n",
    "locale_2009 = locale_df[locale_df['YEAR'] == '2009'].reset_index(drop=True)\n",
    "locale_2010 = locale_df[locale_df['YEAR'] == '2010'].reset_index(drop=True)"
   ]
  },
  {
   "cell_type": "code",
   "execution_count": 39,
   "metadata": {},
   "outputs": [
    {
     "data": {
      "text/plain": [
       "Text(0.5, 0, 'SP_STATE_CODE')"
      ]
     },
     "execution_count": 39,
     "metadata": {},
     "output_type": "execute_result"
    },
    {
     "data": {
      "image/png": "[encoded data removed]",
      "text/plain": [
       "<Figure size 720x216 with 3 Axes>"
      ]
     },
     "metadata": {
      "needs_background": "light"
     },
     "output_type": "display_data"
    }
   ],
   "source": [
    "fig, ax = plt.subplots(1, 3, sharex='col', sharey='row', figsize=(10,3))\n",
    "ax[0].title.set_text('2008')\n",
    "ax[0].scatter(x = locale_2008['SP_STATE_CODE'], y = locale_2008['AGE_DEATH'], c = locale_2008['AGE_DEATH'], cmap = 'gray')\n",
    "ax[0].set_xlabel('SP_STATE_CODE')\n",
    "ax[0].set_ylabel('AGE_DEATH')\n",
    "\n",
    "ax[1].title.set_text('2009')\n",
    "ax[1].scatter(x = locale_2009['SP_STATE_CODE'], y = locale_2009['AGE_DEATH'], c = locale_2009['AGE_DEATH'], cmap = 'gray')\n",
    "ax[1].set_xlabel('SP_STATE_CODE')\n",
    "\n",
    "ax[2].title.set_text('2010')\n",
    "ax[2].scatter(x = locale_2010['SP_STATE_CODE'], y = locale_2010['AGE_DEATH'], c = locale_2010['AGE_DEATH'], cmap = 'gray')\n",
    "ax[2].set_xlabel('SP_STATE_CODE')"
   ]
  },
  {
   "cell_type": "markdown",
   "metadata": {},
   "source": [
    "Interestingly, the states with an `SP_STATE_CODE` slightly greater than 0 or less than 50 also happen to be more rural and spread-out areas where access to quality medical care is likely more sparse, as reflected by the lowest `AGE_DEATH` values mostly occurring at these bounds."
   ]
  },
  {
   "cell_type": "markdown",
   "metadata": {},
   "source": [
    "Save `merged_bs_df` to csv for easy recall in `inpatient_claims_eda.ipynb`:"
   ]
  },
  {
   "cell_type": "code",
   "execution_count": 47,
   "metadata": {},
   "outputs": [],
   "source": [
    "merged_bs_df_cpy.to_csv('merged_beneficiary_summary.csv', index=False)"
   ]
  }
 ],
 "metadata": {
  "kernelspec": {
   "display_name": "Python 3 (ipykernel)",
   "language": "python",
   "name": "python3"
  },
  "language_info": {
   "codemirror_mode": {
    "name": "ipython",
    "version": 3
   },
   "file_extension": ".py",
   "mimetype": "text/x-python",
   "name": "python",
   "nbconvert_exporter": "python",
   "pygments_lexer": "ipython3",
   "version": "3.9.7"
  }
 },
 "nbformat": 4,
 "nbformat_minor": 4
}
